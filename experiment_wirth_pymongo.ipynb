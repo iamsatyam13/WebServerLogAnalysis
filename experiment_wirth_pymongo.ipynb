{
 "cells": [
  {
   "cell_type": "code",
   "execution_count": 7,
   "id": "a33197bc-7c57-4c0a-8f66-c27a74d27b71",
   "metadata": {
    "tags": []
   },
   "outputs": [],
   "source": [
    "import pymongo\n",
    "import pandas as pd"
   ]
  },
  {
   "cell_type": "code",
   "execution_count": 8,
   "id": "b1bb4f8e-7779-46c8-98ac-f34c814600e8",
   "metadata": {
    "tags": []
   },
   "outputs": [],
   "source": [
    "df=pd.read_csv('PowerBI_input.csv')"
   ]
  },
  {
   "cell_type": "code",
   "execution_count": 9,
   "id": "2ce584fc-1e5e-445c-b465-f5a0c27d1471",
   "metadata": {
    "tags": []
   },
   "outputs": [],
   "source": [
    "import json"
   ]
  },
  {
   "cell_type": "code",
   "execution_count": 10,
   "id": "8b23630d-365f-4e4d-bd23-9deef01a525f",
   "metadata": {
    "tags": []
   },
   "outputs": [],
   "source": [
    "client = pymongo.MongoClient('mongodb://localhost:27017/')\n",
    "db = client.mydatabase"
   ]
  },
  {
   "cell_type": "code",
   "execution_count": 11,
   "id": "da191be2-72e6-4570-b0bf-e8957b65b7ab",
   "metadata": {
    "tags": []
   },
   "outputs": [],
   "source": [
    "data=df.to_dict('records')"
   ]
  },
  {
   "cell_type": "code",
   "execution_count": null,
   "id": "13dd35ff-d089-4e15-9398-3f30956edb91",
   "metadata": {
    "tags": []
   },
   "outputs": [],
   "source": [
    "collection = db.my_collection\n",
    "collection.insert_many(data)"
   ]
  }
 ],
 "metadata": {
  "kernelspec": {
   "display_name": "Python 3 (ipykernel)",
   "language": "python",
   "name": "python3"
  },
  "language_info": {
   "codemirror_mode": {
    "name": "ipython",
    "version": 3
   },
   "file_extension": ".py",
   "mimetype": "text/x-python",
   "name": "python",
   "nbconvert_exporter": "python",
   "pygments_lexer": "ipython3",
   "version": "3.9.12"
  }
 },
 "nbformat": 4,
 "nbformat_minor": 5
}
